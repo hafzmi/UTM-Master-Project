{
  "nbformat": 4,
  "nbformat_minor": 0,
  "metadata": {
    "colab": {
      "name": "Final (LSTM Layer) Deep Learning in Macroeconomics - MGS.ipynb",
      "provenance": [],
      "collapsed_sections": []
    },
    "kernelspec": {
      "name": "python3",
      "display_name": "Python 3"
    },
    "language_info": {
      "name": "python"
    }
  },
  "cells": [
    {
      "cell_type": "markdown",
      "source": [
        "\n",
        "#**Deep Learning in Macroeconomics - MGS**\n",
        "\n",
        "*The purpose of this project is to develop a predictive model to generate an expected yield curve of Malaysia Government Securities 10 years using deep learning method.* Source: https://www.youtube.com/watch?v=gSYiKKoREFI&t=526s"
      ],
      "metadata": {
        "id": "ZBjzRbXySZ_7"
      }
    },
    {
      "cell_type": "markdown",
      "source": [
        "###**Import all functions -> Fire the System**"
      ],
      "metadata": {
        "id": "tGX8i2qORK_4"
      }
    },
    {
      "cell_type": "code",
      "source": [
        "import numpy as np                                                                         #for numerical calculation\n",
        "import pandas as pd                                                                        #for data structuring\n",
        "import matplotlib.pyplot as plt                                                            #for data visualization\n",
        "import datetime as dt                                                                      #for time manipulation\n",
        "from datetime import datetime\n",
        "\n",
        "from keras.callbacks import EarlyStopping, ReduceLROnPlateau, ModelCheckpoint, TensorBoard #For controlling training procedures\n",
        "\n",
        "%matplotlib inline"
      ],
      "metadata": {
        "id": "j8Wf31KRRKNj"
      },
      "execution_count": 20,
      "outputs": []
    },
    {
      "cell_type": "markdown",
      "source": [
        "###**Data Pre-processing**\n",
        "\n"
      ],
      "metadata": {
        "id": "4NhMOKkNTZi7"
      }
    },
    {
      "cell_type": "code",
      "source": [
        "from google.colab import drive                                            #Create path to google drive into google colab\n",
        "drive.mount('/content/drive')"
      ],
      "metadata": {
        "colab": {
          "base_uri": "https://localhost:8080/"
        },
        "id": "3UB6SB1n1k9V",
        "outputId": "639f4c70-c040-4475-f299-3c2a6282eaea"
      },
      "execution_count": 21,
      "outputs": [
        {
          "output_type": "stream",
          "name": "stdout",
          "text": [
            "Drive already mounted at /content/drive; to attempt to forcibly remount, call drive.mount(\"/content/drive\", force_remount=True).\n"
          ]
        }
      ]
    },
    {
      "cell_type": "code",
      "source": [
        "#read data\n",
        "path =\"/content/drive/MyDrive/Master Project/MP2 - Dataset (New).xlsx\"    #Define the path to data to be used in this project\n",
        "df = pd.read_excel(path)                                                  #read the data using pandas function\n",
        "\n",
        "df_date = df\n",
        "df = df.astype(str)                                          \n",
        "\n",
        "cols = list(df)[1:7]                                                              #Select the features(columns) in the dataset. Note that Column A=0, Column B=1 and etc\n",
        "datelist_train = list(df['Date'])                                                   #Extract the dates to be used in visualization\n",
        "datelist_train = [dt.datetime.strptime(date, '%Y-%m-%d').date() for date in datelist_train]\n",
        "\n",
        "print('Training set shape == {}'.format(df.shape))\n",
        "print('All timestamps == {}'.format(len(df)))\n",
        "print('Featured selected: {}'.format(cols))\n"
      ],
      "metadata": {
        "colab": {
          "base_uri": "https://localhost:8080/"
        },
        "id": "Y6vBrNlPG5oi",
        "outputId": "2b1cafb8-a561-48f6-f3ea-9de4a08812bd"
      },
      "execution_count": 22,
      "outputs": [
        {
          "output_type": "stream",
          "name": "stdout",
          "text": [
            "Training set shape == (60, 8)\n",
            "All timestamps == 60\n",
            "Featured selected: ['MGS10 year (Yield %)', 'FBM KLCI (MoM Chg %)', 'Trade Balance (MoM Chg %)', 'Foreign Holding (MoM Chg %)', 'IP Index (YoY Chg %)', 'CPI (YoY Chg %)']\n"
          ]
        }
      ]
    },
    {
      "cell_type": "code",
      "source": [
        "df = df[cols].astype(str)\n",
        "for i in cols:\n",
        "    for j in range(0, len(df)):\n",
        "        df[i][j] = df[i][j].replace(',', '')                      #Although not necessary. This is to follow the method used by our reference. Source: https://github.com/vb100/multivariate-lstm/blob/master/LSTM_model_stocks.ipynb\n",
        "\n",
        "df = df[cols].astype(float)                                       #Change the dataset into floating type (Note the dataset already in column)\n",
        "\n",
        "training_set = df.values\n",
        "print('Shape of training set == {}.'.format(training_set.shape))  #Change the dataset into matrix. Note that as_matrix() is already deprecated. use \"Values\"\n",
        "training_set"
      ],
      "metadata": {
        "colab": {
          "base_uri": "https://localhost:8080/"
        },
        "id": "6AlsdFTjhgfE",
        "outputId": "0f7c8692-e46f-442c-cb5d-d38bc00f8f2e"
      },
      "execution_count": 23,
      "outputs": [
        {
          "output_type": "stream",
          "name": "stdout",
          "text": [
            "Shape of training set == (60, 6).\n"
          ]
        },
        {
          "output_type": "execute_result",
          "data": {
            "text/plain": [
              "array([[ 4.12400000e+00,  1.81576751e+00, -4.57079153e+01,\n",
              "        -1.62644786e+00,  4.90000000e+00,  3.10000000e+00],\n",
              "       [ 4.03700000e+00,  1.32991134e+00,  8.31827515e+01,\n",
              "        -4.04332155e+00,  7.40000000e+00,  4.50000000e+00],\n",
              "       [ 4.13400000e+00,  2.73472786e+00, -3.66550835e+01,\n",
              "        -1.31857838e+01,  5.60000000e+00,  4.90000000e+00],\n",
              "       [ 4.05200000e+00,  1.60738812e+00,  5.98478145e+01,\n",
              "         3.87245956e+00,  6.50000000e+00,  4.30000000e+00],\n",
              "       [ 3.87000000e+00, -1.23864575e-01, -3.08867486e+01,\n",
              "         5.54989968e+00,  7.20000000e+00,  3.80000000e+00],\n",
              "       [ 3.91000000e+00, -1.24584482e-01,  6.33189172e+01,\n",
              "        -4.74943620e-01,  4.40000000e+00,  3.40000000e+00],\n",
              "       [ 3.98800000e+00, -2.06387816e-01, -1.99882307e+01,\n",
              "        -8.59451266e-01,  8.50000000e+00,  3.10000000e+00],\n",
              "       [ 3.89200000e+00,  7.46010011e-01,  2.15003677e+01,\n",
              "        -6.56613968e-01,  7.40000000e+00,  3.60000000e+00],\n",
              "       [ 3.91700000e+00, -9.91450292e-01, -1.71610169e+01,\n",
              "         4.71793638e+00,  5.90000000e+00,  4.20000000e+00],\n",
              "       [ 3.89900000e+00, -4.36323039e-01,  2.19218122e+01,\n",
              "        -1.26471056e+00,  4.20000000e+00,  3.70000000e+00],\n",
              "       [ 3.89300000e+00, -1.71975834e+00, -7.69153931e-01,\n",
              "         3.02191642e+00,  6.40000000e+00,  3.40000000e+00],\n",
              "       [ 3.90500000e+00,  4.59583435e+00, -2.58506141e+01,\n",
              "         2.63054132e+00,  5.40000000e+00,  3.50000000e+00],\n",
              "       [ 3.96100000e+00,  3.99430101e+00,  3.64512626e+01,\n",
              "         2.52325899e+00,  6.90000000e+00,  2.70000000e+00],\n",
              "       [ 4.03000000e+00, -6.62535187e-01, -9.10357178e+00,\n",
              "        -1.96239750e+00,  4.70000000e+00,  1.40000000e+00],\n",
              "       [ 3.94300000e+00,  3.91121646e-01,  6.37368651e+01,\n",
              "         4.88944927e-01,  4.10000000e+00,  1.30000000e+00],\n",
              "       [ 4.12900000e+00,  3.70815580e-01, -1.13376563e+01,\n",
              "        -1.74232428e+00,  5.30000000e+00,  1.40000000e+00],\n",
              "       [ 4.17800000e+00, -6.93713009e+00, -3.34841288e+01,\n",
              "        -5.40793398e+00,  4.10000000e+00,  1.80000000e+00],\n",
              "       [ 4.20000000e+00, -2.82198297e+00, -3.08660168e+01,\n",
              "        -3.88874711e+00,  4.50000000e+00,  8.00000000e-01],\n",
              "       [ 4.06600000e+00,  5.48329885e+00,  3.32185604e+01,\n",
              "         1.94216881e+00,  5.20000000e+00,  9.00000000e-01],\n",
              "       [ 4.03800000e+00,  1.98458736e+00, -8.22030769e+01,\n",
              "        -6.87458218e-01,  4.30000000e+00,  2.00000000e-01],\n",
              "       [ 4.06600000e+00, -1.45686557e+00,  9.76832642e+02,\n",
              "        -2.65647441e+00,  4.80000000e+00,  3.00000000e-01],\n",
              "       [ 4.07600000e+00, -4.67780163e+00,  8.22683193e+00,\n",
              "         3.06710855e+00,  5.40000000e+00,  6.00000000e-01],\n",
              "       [ 4.13000000e+00, -1.72061757e+00, -4.95846190e+01,\n",
              "        -3.06688603e+00,  3.70000000e+00,  2.00000000e-01],\n",
              "       [ 4.07000000e+00,  6.38148417e-01,  2.90371940e+01,\n",
              "        -2.86965457e-01,  4.40000000e+00,  2.00000000e-01],\n",
              "       [ 4.07000000e+00, -4.17016645e-01,  1.32810362e+01,\n",
              "        -6.65005604e-01,  4.20000000e+00, -7.00000000e-01],\n",
              "       [ 3.89200000e+00,  1.43745582e+00, -2.43980997e+00,\n",
              "         3.54477176e+00,  3.70000000e+00, -4.00000000e-01],\n",
              "       [ 3.76700000e+00, -3.75352076e+00,  3.20237702e+01,\n",
              "         1.61398198e+00,  4.10000000e+00,  2.00000000e-01],\n",
              "       [ 3.79000000e+00, -8.15268643e-02, -2.59127282e+01,\n",
              "        -4.16826658e+00,  4.30000000e+00,  2.00000000e-01],\n",
              "       [ 3.77700000e+00,  5.15743261e-01, -1.92473209e+01,\n",
              "        -2.63899193e+00,  4.20000000e+00,  2.00000000e-01],\n",
              "       [ 3.63200000e+00,  1.29455524e+00,  1.55799373e+01,\n",
              "         3.64885938e+00,  3.80000000e+00,  1.50000000e+00],\n",
              "       [ 3.57200000e+00, -2.22829565e+00,  4.43721183e+01,\n",
              "         3.45684444e+00,  4.00000000e+00,  1.40000000e+00],\n",
              "       [ 3.31600000e+00, -1.39032461e+00, -3.07909074e+01,\n",
              "        -2.55648386e-01,  3.60000000e+00,  1.50000000e+00],\n",
              "       [ 3.31600000e+00, -1.75108862e+00, -2.02497286e+01,\n",
              "         3.05286912e-01,  2.50000000e+00,  1.10000000e+00],\n",
              "       [ 3.41200000e+00,  8.88308048e-01,  9.93646472e+01,\n",
              "        -2.30971065e-01,  2.30000000e+00,  1.10000000e+00],\n",
              "       [ 3.42300000e+00, -2.26786318e+00, -6.19508309e+01,\n",
              "         4.53516711e+00,  2.70000000e+00,  9.00000000e-01],\n",
              "       [ 3.29600000e+00,  1.73012153e+00,  8.77953934e+01,\n",
              "         4.62191274e+00,  3.40000000e+00,  1.00000000e+00],\n",
              "       [ 3.12800000e+00, -3.63176314e+00, -4.11755336e+00,\n",
              "         1.73023325e+00,  2.20000000e+00,  1.60000000e+00],\n",
              "       [ 2.82000000e+00, -3.16251486e+00,  3.36406678e+00,\n",
              "        -4.06102357e+00,  6.20000000e+00,  1.30000000e+00],\n",
              "       [ 3.34700000e+00, -8.88617601e+00, -7.65027322e+00,\n",
              "        -6.86694485e+00, -4.10000000e+00, -2.00000000e-01],\n",
              "       [ 2.89100000e+00,  4.21129774e+00, -1.38853115e+02,\n",
              "        -1.39580100e+00, -3.72000000e+01, -2.90000000e+00],\n",
              "       [ 2.79600000e+00,  4.65058461e+00, -3.20783875e+02,\n",
              "         8.66623522e-01, -2.26000000e+01, -2.90000000e+00],\n",
              "       [ 2.85700000e+00,  1.88155439e+00,  1.01967945e+02,\n",
              "         6.10425132e+00,  4.70000000e+00, -1.90000000e+00],\n",
              "       [ 2.55100000e+00,  6.84757190e+00,  2.68608739e+01,\n",
              "         4.40256482e+00,  2.90000000e+00, -1.30000000e+00],\n",
              "       [ 2.61800000e+00, -4.89727202e+00, -4.14878454e+01,\n",
              "         1.65154505e+00,  2.20000000e+00, -1.40000000e+00],\n",
              "       [ 2.66800000e+00, -1.33686509e+00,  4.84268218e+01,\n",
              "         5.68525221e-01,  4.30000000e+00, -1.40000000e+00],\n",
              "       [ 2.61800000e+00, -2.52056724e+00,  1.47246535e+00,\n",
              "         3.35102826e+00,  2.40000000e+00, -1.50000000e+00],\n",
              "       [ 2.75400000e+00,  6.53218714e+00, -2.31546790e+01,\n",
              "         1.36192128e+00,  2.00000000e+00, -1.70000000e+00],\n",
              "       [ 2.64600000e+00,  4.12744527e+00,  2.11984800e+01,\n",
              "         1.89035407e+00,  4.10000000e+00, -1.40000000e+00],\n",
              "       [ 2.70200000e+00, -3.73707143e+00, -1.99122088e+01,\n",
              "         1.55520859e+00,  3.50000000e+00, -2.00000000e-01],\n",
              "       [ 3.08100000e+00,  7.24591420e-01,  7.67331205e+00,\n",
              "         2.74827697e+00,  4.50000000e+00,  1.00000000e-01],\n",
              "       [ 3.23700000e+00, -2.68737126e-01,  3.53918443e+01,\n",
              "         2.08820962e+00,  1.27000000e+01,  1.70000000e+00],\n",
              "       [ 3.10800000e+00,  1.78835851e+00, -1.58858040e+01,\n",
              "         2.39149869e+00,  6.80000000e+01,  4.70000000e+00],\n",
              "       [ 3.22700000e+00, -1.13008460e+00, -3.24426544e+01,\n",
              "         7.93378487e-01,  2.98000000e+01,  4.40000000e+00],\n",
              "       [ 3.28100000e+00, -3.21555998e+00,  6.18147448e+01,\n",
              "         3.08827808e-01, -2.00000000e-01,  3.40000000e+00],\n",
              "       [ 3.17400000e+00, -2.48135558e+00, -3.81874551e+01,\n",
              "        -1.41436456e+00, -6.50000000e+00,  2.20000000e+00],\n",
              "       [ 3.18600000e+00,  7.14438646e+00,  5.54699426e+01,\n",
              "         2.87318846e+00,  6.00000000e-01,  2.00000000e+00],\n",
              "       [ 3.37300000e+00, -3.97032559e+00,  2.21666355e+01,\n",
              "        -9.54270670e-02,  4.00000000e+00,  2.20000000e+00],\n",
              "       [ 3.58100000e+00,  1.59383535e+00,  6.54445252e-01,\n",
              "         2.40811421e+00,  8.00000000e+00,  2.90000000e+00],\n",
              "       [ 3.50900000e+00, -3.09349617e+00, -2.79809886e+01,\n",
              "        -1.57384810e+00,  1.13000000e+01,  3.30000000e+00],\n",
              "       [ 3.56300000e+00,  3.53703484e+00,  6.36186051e+01,\n",
              "         2.76419771e+00,  8.40000000e+00,  3.20000000e+00]])"
            ]
          },
          "metadata": {},
          "execution_count": 23
        }
      ]
    },
    {
      "cell_type": "code",
      "source": [
        "# Feature Scaling\n",
        "from sklearn.preprocessing import StandardScaler\n",
        "\n",
        "sc = StandardScaler()\n",
        "training_set_scaled = sc.fit_transform(training_set)\n",
        "\n",
        "sc_predict = StandardScaler()\n",
        "sc_predict.fit_transform(training_set[:, 0:1])"
      ],
      "metadata": {
        "colab": {
          "base_uri": "https://localhost:8080/"
        },
        "id": "fn35y5J9mo2v",
        "outputId": "849242b3-76e4-4296-c293-a03261740cff"
      },
      "execution_count": 24,
      "outputs": [
        {
          "output_type": "execute_result",
          "data": {
            "text/plain": [
              "array([[ 1.1561683 ],\n",
              "       [ 0.98350219],\n",
              "       [ 1.17601498],\n",
              "       [ 1.01327221],\n",
              "       [ 0.65206265],\n",
              "       [ 0.73144937],\n",
              "       [ 0.88625347],\n",
              "       [ 0.69572534],\n",
              "       [ 0.74534204],\n",
              "       [ 0.70961802],\n",
              "       [ 0.69771001],\n",
              "       [ 0.72152603],\n",
              "       [ 0.83266743],\n",
              "       [ 0.96960952],\n",
              "       [ 0.79694341],\n",
              "       [ 1.16609164],\n",
              "       [ 1.26334037],\n",
              "       [ 1.30700307],\n",
              "       [ 1.04105756],\n",
              "       [ 0.98548686],\n",
              "       [ 1.04105756],\n",
              "       [ 1.06090424],\n",
              "       [ 1.16807631],\n",
              "       [ 1.04899624],\n",
              "       [ 1.04899624],\n",
              "       [ 0.69572534],\n",
              "       [ 0.44764185],\n",
              "       [ 0.49328921],\n",
              "       [ 0.46748853],\n",
              "       [ 0.17971168],\n",
              "       [ 0.06063161],\n",
              "       [-0.44744339],\n",
              "       [-0.44744339],\n",
              "       [-0.25691526],\n",
              "       [-0.23508392],\n",
              "       [-0.48713674],\n",
              "       [-0.82056096],\n",
              "       [-1.43183868],\n",
              "       [-0.38591868],\n",
              "       [-1.29092726],\n",
              "       [-1.47947071],\n",
              "       [-1.35840597],\n",
              "       [-1.96571435],\n",
              "       [-1.8327416 ],\n",
              "       [-1.73350821],\n",
              "       [-1.8327416 ],\n",
              "       [-1.56282676],\n",
              "       [-1.7771709 ],\n",
              "       [-1.6660295 ],\n",
              "       [-0.91384035],\n",
              "       [-0.60423215],\n",
              "       [-0.86025432],\n",
              "       [-0.62407883],\n",
              "       [-0.51690676],\n",
              "       [-0.72926623],\n",
              "       [-0.70545022],\n",
              "       [-0.33431731],\n",
              "       [ 0.07849362],\n",
              "       [-0.06440247],\n",
              "       [ 0.04276959]])"
            ]
          },
          "metadata": {},
          "execution_count": 24
        }
      ]
    },
    {
      "cell_type": "code",
      "source": [
        "# Creating a data structure with 6 timestamps and 1 output (6 timestamps refers to 6 period)\n",
        "X_train = []\n",
        "y_train = []\n",
        "\n",
        "n_future = 1   # Number of days we want top predict into the future\n",
        "n_past = 6     # Number of past days we want to use to predict the future\n",
        "\n",
        "for i in range(n_past, len(training_set_scaled) - n_future +1):\n",
        "    X_train.append(training_set_scaled[i - n_past:i, 0:df.shape[1] - 1])\n",
        "    y_train.append(training_set_scaled[i + n_future - 1:i + n_future, 0])\n",
        "\n",
        "X_train, y_train = np.array(X_train), np.array(y_train)\n",
        "\n",
        "print('X_train shape == {}.'.format(X_train.shape))\n",
        "print('y_train shape == {}.'.format(y_train.shape))"
      ],
      "metadata": {
        "colab": {
          "base_uri": "https://localhost:8080/"
        },
        "id": "qKIqtgSondhA",
        "outputId": "501ca651-72e6-4be5-8de9-b8ed975817a3"
      },
      "execution_count": 25,
      "outputs": [
        {
          "output_type": "stream",
          "name": "stdout",
          "text": [
            "X_train shape == (54, 6, 5).\n",
            "y_train shape == (54, 1).\n"
          ]
        }
      ]
    },
    {
      "cell_type": "markdown",
      "source": [
        "###**Model Creation**\n",
        "\n"
      ],
      "metadata": {
        "id": "VJ1gDbioTpa7"
      }
    },
    {
      "cell_type": "code",
      "source": [
        "# Import Libraries and packages from Keras\n",
        "from keras.models import Sequential\n",
        "from keras.layers import Dense\n",
        "from keras.layers import LSTM\n",
        "from keras.layers import Dropout\n",
        "from tensorflow.keras.optimizers import Adam"
      ],
      "metadata": {
        "id": "gNZY8gI_q_2o"
      },
      "execution_count": 26,
      "outputs": []
    },
    {
      "cell_type": "code",
      "source": [
        "# Initializing the Neural Network based on LSTM\n",
        "model = Sequential()\n",
        "\n",
        "# Adding 1st LSTM layer\n",
        "model.add(LSTM(units=64, return_sequences=False, input_shape=(n_past, df.shape[1]-1))) #set 64 nodes for 1st layer #Change return_sequence to add layer\n",
        "\n",
        "# Adding 2nd LSTM layer\n",
        "#model.add(LSTM(units=6, return_sequences=False))                                     #set 10 nodes for 2nd layer - remove second layer\n",
        "\n",
        "# Adding Dropout\n",
        "model.add(Dropout(0.25))\n",
        "\n",
        "# Output layer\n",
        "model.add(Dense(units=1, activation='linear'))\n",
        "\n",
        "# Compiling the Neural Network\n",
        "model.compile(optimizer = Adam(learning_rate=0.01), loss='mean_squared_error',metrics=[\"acc\"])"
      ],
      "metadata": {
        "id": "_5EIhFUqrisx"
      },
      "execution_count": 27,
      "outputs": []
    },
    {
      "cell_type": "code",
      "source": [
        "%%time\n",
        "epochs = 100\n",
        "batch_size = 256\n",
        "\n",
        "es = EarlyStopping(monitor='val_loss', min_delta=1e-10, patience=10, verbose=1)\n",
        "rlr = ReduceLROnPlateau(monitor='val_loss', factor=0.5, patience=10, verbose=1)\n",
        "mcp = ModelCheckpoint(filepath='weights.h5', monitor='val_loss', verbose=1, save_best_only=True, save_weights_only=True)\n",
        "\n",
        "tb = TensorBoard('logs')\n",
        "\n",
        "history = model.fit(X_train, y_train, shuffle=True, epochs=epochs, callbacks=[es, rlr, mcp, tb], validation_split=0.2, verbose=1, batch_size=batch_size)"
      ],
      "metadata": {
        "colab": {
          "base_uri": "https://localhost:8080/"
        },
        "id": "2uGVVgKyr86Q",
        "outputId": "6a0cd7a4-6cbb-4e1d-8231-92fcd602fa98"
      },
      "execution_count": 28,
      "outputs": [
        {
          "output_type": "stream",
          "name": "stdout",
          "text": [
            "Epoch 1/100\n",
            "1/1 [==============================] - ETA: 0s - loss: 1.1414 - acc: 0.0000e+00\n",
            "Epoch 1: val_loss improved from inf to 0.22160, saving model to weights.h5\n",
            "1/1 [==============================] - 2s 2s/step - loss: 1.1414 - acc: 0.0000e+00 - val_loss: 0.2216 - val_acc: 0.0000e+00 - lr: 0.0100\n",
            "Epoch 2/100\n",
            "1/1 [==============================] - ETA: 0s - loss: 0.5749 - acc: 0.0000e+00\n",
            "Epoch 2: val_loss improved from 0.22160 to 0.18803, saving model to weights.h5\n",
            "1/1 [==============================] - 0s 51ms/step - loss: 0.5749 - acc: 0.0000e+00 - val_loss: 0.1880 - val_acc: 0.0000e+00 - lr: 0.0100\n",
            "Epoch 3/100\n",
            "1/1 [==============================] - ETA: 0s - loss: 0.2300 - acc: 0.0000e+00\n",
            "Epoch 3: val_loss did not improve from 0.18803\n",
            "1/1 [==============================] - 0s 39ms/step - loss: 0.2300 - acc: 0.0000e+00 - val_loss: 0.4568 - val_acc: 0.0000e+00 - lr: 0.0100\n",
            "Epoch 4/100\n",
            "1/1 [==============================] - ETA: 0s - loss: 0.1862 - acc: 0.0000e+00\n",
            "Epoch 4: val_loss did not improve from 0.18803\n",
            "1/1 [==============================] - 0s 42ms/step - loss: 0.1862 - acc: 0.0000e+00 - val_loss: 0.5861 - val_acc: 0.0000e+00 - lr: 0.0100\n",
            "Epoch 5/100\n",
            "1/1 [==============================] - ETA: 0s - loss: 0.2115 - acc: 0.0000e+00\n",
            "Epoch 5: val_loss did not improve from 0.18803\n",
            "1/1 [==============================] - 0s 39ms/step - loss: 0.2115 - acc: 0.0000e+00 - val_loss: 0.4833 - val_acc: 0.0000e+00 - lr: 0.0100\n",
            "Epoch 6/100\n",
            "1/1 [==============================] - ETA: 0s - loss: 0.1268 - acc: 0.0000e+00\n",
            "Epoch 6: val_loss did not improve from 0.18803\n",
            "1/1 [==============================] - 0s 38ms/step - loss: 0.1268 - acc: 0.0000e+00 - val_loss: 0.3639 - val_acc: 0.0000e+00 - lr: 0.0100\n",
            "Epoch 7/100\n",
            "1/1 [==============================] - ETA: 0s - loss: 0.1145 - acc: 0.0000e+00\n",
            "Epoch 7: val_loss did not improve from 0.18803\n",
            "1/1 [==============================] - 0s 44ms/step - loss: 0.1145 - acc: 0.0000e+00 - val_loss: 0.2815 - val_acc: 0.0000e+00 - lr: 0.0100\n",
            "Epoch 8/100\n",
            "1/1 [==============================] - ETA: 0s - loss: 0.0749 - acc: 0.0000e+00\n",
            "Epoch 8: val_loss did not improve from 0.18803\n",
            "1/1 [==============================] - 0s 58ms/step - loss: 0.0749 - acc: 0.0000e+00 - val_loss: 0.2300 - val_acc: 0.0000e+00 - lr: 0.0100\n",
            "Epoch 9/100\n",
            "1/1 [==============================] - ETA: 0s - loss: 0.1071 - acc: 0.0000e+00\n",
            "Epoch 9: val_loss did not improve from 0.18803\n",
            "1/1 [==============================] - 0s 44ms/step - loss: 0.1071 - acc: 0.0000e+00 - val_loss: 0.2169 - val_acc: 0.0000e+00 - lr: 0.0100\n",
            "Epoch 10/100\n",
            "1/1 [==============================] - ETA: 0s - loss: 0.1463 - acc: 0.0000e+00\n",
            "Epoch 10: val_loss did not improve from 0.18803\n",
            "1/1 [==============================] - 0s 41ms/step - loss: 0.1463 - acc: 0.0000e+00 - val_loss: 0.2220 - val_acc: 0.0000e+00 - lr: 0.0100\n",
            "Epoch 11/100\n",
            "1/1 [==============================] - ETA: 0s - loss: 0.1166 - acc: 0.0000e+00\n",
            "Epoch 11: val_loss did not improve from 0.18803\n",
            "1/1 [==============================] - 0s 41ms/step - loss: 0.1166 - acc: 0.0000e+00 - val_loss: 0.2344 - val_acc: 0.0000e+00 - lr: 0.0100\n",
            "Epoch 12/100\n",
            "1/1 [==============================] - ETA: 0s - loss: 0.0868 - acc: 0.0000e+00\n",
            "Epoch 12: ReduceLROnPlateau reducing learning rate to 0.004999999888241291.\n",
            "\n",
            "Epoch 12: val_loss did not improve from 0.18803\n",
            "1/1 [==============================] - 0s 50ms/step - loss: 0.0868 - acc: 0.0000e+00 - val_loss: 0.2581 - val_acc: 0.0000e+00 - lr: 0.0100\n",
            "Epoch 12: early stopping\n",
            "CPU times: user 2.88 s, sys: 80.4 ms, total: 2.96 s\n",
            "Wall time: 2.97 s\n"
          ]
        }
      ]
    },
    {
      "cell_type": "markdown",
      "source": [
        "# Make Predictions"
      ],
      "metadata": {
        "id": "lL770bzFshFD"
      }
    },
    {
      "cell_type": "code",
      "source": [
        "# Generate list of sequence of days for predictions\n",
        "datelist_future = pd.date_range(datelist_train[-1], periods=n_future, freq='1m').tolist()\n",
        "\n",
        "'''\n",
        "The datelist 'datelist has been set from begining.\n",
        "'''\n",
        "\n",
        "# Convert Pandas Timestamp to Datetime object (for transformation) --> FUTURE\n",
        "datelist_future_ = []\n",
        "for this_timestamp in datelist_future:\n",
        "    datelist_future_.append(this_timestamp.date())"
      ],
      "metadata": {
        "id": "XBZrH-pDsgIW"
      },
      "execution_count": 11,
      "outputs": []
    },
    {
      "cell_type": "code",
      "source": [
        "# Perform predictions\n",
        "predictions_future = model.predict(X_train[-n_future:])\n",
        "\n",
        "predictions_train = model.predict(X_train[n_past:])"
      ],
      "metadata": {
        "id": "68U7xAP9s-0t"
      },
      "execution_count": 12,
      "outputs": []
    },
    {
      "cell_type": "code",
      "source": [
        "# Inverse the predictions to original measurements\n",
        "\n",
        "# ---> Special function: convert <datetime.date> to <Timestamp>\n",
        "def datetime_to_timestamp(x):\n",
        "    '''\n",
        "        x : a given datetime value (datetime.date)\n",
        "    '''\n",
        "    return datetime.strptime(x.strftime('%Y%m%d'), '%Y%m%d')\n",
        "\n",
        "\n",
        "y_pred_future = sc_predict.inverse_transform(predictions_future)\n",
        "y_pred_train = sc_predict.inverse_transform(predictions_train)\n",
        "\n",
        "PREDICTIONS_FUTURE = pd.DataFrame(y_pred_future, columns=['MGS10 year (Yield %)']).set_index(pd.Series(datelist_future))\n",
        "PREDICTION_TRAIN = pd.DataFrame(y_pred_train, columns=['MGS10 year (Yield %)']).set_index(pd.Series(datelist_train[2 * n_past + n_future -1:]))\n",
        "\n",
        "# Convert <datetime.date> to <Timestamp> for PREDCITION_TRAIN\n",
        "PREDICTION_TRAIN.index = PREDICTION_TRAIN.index.to_series().apply(datetime_to_timestamp)\n",
        "\n",
        "PREDICTION_TRAIN.head()"
      ],
      "metadata": {
        "colab": {
          "base_uri": "https://localhost:8080/",
          "height": 206
        },
        "id": "SlaMEbygtB_N",
        "outputId": "b32a06d0-b18b-4863-f853-9910ee4a4dd6"
      },
      "execution_count": 13,
      "outputs": [
        {
          "output_type": "execute_result",
          "data": {
            "text/plain": [
              "            MGS10 year (Yield %)\n",
              "2018-01-31              3.853404\n",
              "2018-02-28              3.957323\n",
              "2018-03-31              4.084611\n",
              "2018-04-30              4.096507\n",
              "2018-05-31              4.213228"
            ],
            "text/html": [
              "\n",
              "  <div id=\"df-76a6d33d-e800-445e-9c20-8eef2158aec8\">\n",
              "    <div class=\"colab-df-container\">\n",
              "      <div>\n",
              "<style scoped>\n",
              "    .dataframe tbody tr th:only-of-type {\n",
              "        vertical-align: middle;\n",
              "    }\n",
              "\n",
              "    .dataframe tbody tr th {\n",
              "        vertical-align: top;\n",
              "    }\n",
              "\n",
              "    .dataframe thead th {\n",
              "        text-align: right;\n",
              "    }\n",
              "</style>\n",
              "<table border=\"1\" class=\"dataframe\">\n",
              "  <thead>\n",
              "    <tr style=\"text-align: right;\">\n",
              "      <th></th>\n",
              "      <th>MGS10 year (Yield %)</th>\n",
              "    </tr>\n",
              "  </thead>\n",
              "  <tbody>\n",
              "    <tr>\n",
              "      <th>2018-01-31</th>\n",
              "      <td>3.853404</td>\n",
              "    </tr>\n",
              "    <tr>\n",
              "      <th>2018-02-28</th>\n",
              "      <td>3.957323</td>\n",
              "    </tr>\n",
              "    <tr>\n",
              "      <th>2018-03-31</th>\n",
              "      <td>4.084611</td>\n",
              "    </tr>\n",
              "    <tr>\n",
              "      <th>2018-04-30</th>\n",
              "      <td>4.096507</td>\n",
              "    </tr>\n",
              "    <tr>\n",
              "      <th>2018-05-31</th>\n",
              "      <td>4.213228</td>\n",
              "    </tr>\n",
              "  </tbody>\n",
              "</table>\n",
              "</div>\n",
              "      <button class=\"colab-df-convert\" onclick=\"convertToInteractive('df-76a6d33d-e800-445e-9c20-8eef2158aec8')\"\n",
              "              title=\"Convert this dataframe to an interactive table.\"\n",
              "              style=\"display:none;\">\n",
              "        \n",
              "  <svg xmlns=\"http://www.w3.org/2000/svg\" height=\"24px\"viewBox=\"0 0 24 24\"\n",
              "       width=\"24px\">\n",
              "    <path d=\"M0 0h24v24H0V0z\" fill=\"none\"/>\n",
              "    <path d=\"M18.56 5.44l.94 2.06.94-2.06 2.06-.94-2.06-.94-.94-2.06-.94 2.06-2.06.94zm-11 1L8.5 8.5l.94-2.06 2.06-.94-2.06-.94L8.5 2.5l-.94 2.06-2.06.94zm10 10l.94 2.06.94-2.06 2.06-.94-2.06-.94-.94-2.06-.94 2.06-2.06.94z\"/><path d=\"M17.41 7.96l-1.37-1.37c-.4-.4-.92-.59-1.43-.59-.52 0-1.04.2-1.43.59L10.3 9.45l-7.72 7.72c-.78.78-.78 2.05 0 2.83L4 21.41c.39.39.9.59 1.41.59.51 0 1.02-.2 1.41-.59l7.78-7.78 2.81-2.81c.8-.78.8-2.07 0-2.86zM5.41 20L4 18.59l7.72-7.72 1.47 1.35L5.41 20z\"/>\n",
              "  </svg>\n",
              "      </button>\n",
              "      \n",
              "  <style>\n",
              "    .colab-df-container {\n",
              "      display:flex;\n",
              "      flex-wrap:wrap;\n",
              "      gap: 12px;\n",
              "    }\n",
              "\n",
              "    .colab-df-convert {\n",
              "      background-color: #E8F0FE;\n",
              "      border: none;\n",
              "      border-radius: 50%;\n",
              "      cursor: pointer;\n",
              "      display: none;\n",
              "      fill: #1967D2;\n",
              "      height: 32px;\n",
              "      padding: 0 0 0 0;\n",
              "      width: 32px;\n",
              "    }\n",
              "\n",
              "    .colab-df-convert:hover {\n",
              "      background-color: #E2EBFA;\n",
              "      box-shadow: 0px 1px 2px rgba(60, 64, 67, 0.3), 0px 1px 3px 1px rgba(60, 64, 67, 0.15);\n",
              "      fill: #174EA6;\n",
              "    }\n",
              "\n",
              "    [theme=dark] .colab-df-convert {\n",
              "      background-color: #3B4455;\n",
              "      fill: #D2E3FC;\n",
              "    }\n",
              "\n",
              "    [theme=dark] .colab-df-convert:hover {\n",
              "      background-color: #434B5C;\n",
              "      box-shadow: 0px 1px 3px 1px rgba(0, 0, 0, 0.15);\n",
              "      filter: drop-shadow(0px 1px 2px rgba(0, 0, 0, 0.3));\n",
              "      fill: #FFFFFF;\n",
              "    }\n",
              "  </style>\n",
              "\n",
              "      <script>\n",
              "        const buttonEl =\n",
              "          document.querySelector('#df-76a6d33d-e800-445e-9c20-8eef2158aec8 button.colab-df-convert');\n",
              "        buttonEl.style.display =\n",
              "          google.colab.kernel.accessAllowed ? 'block' : 'none';\n",
              "\n",
              "        async function convertToInteractive(key) {\n",
              "          const element = document.querySelector('#df-76a6d33d-e800-445e-9c20-8eef2158aec8');\n",
              "          const dataTable =\n",
              "            await google.colab.kernel.invokeFunction('convertToInteractive',\n",
              "                                                     [key], {});\n",
              "          if (!dataTable) return;\n",
              "\n",
              "          const docLinkHtml = 'Like what you see? Visit the ' +\n",
              "            '<a target=\"_blank\" href=https://colab.research.google.com/notebooks/data_table.ipynb>data table notebook</a>'\n",
              "            + ' to learn more about interactive tables.';\n",
              "          element.innerHTML = '';\n",
              "          dataTable['output_type'] = 'display_data';\n",
              "          await google.colab.output.renderOutput(dataTable, element);\n",
              "          const docLink = document.createElement('div');\n",
              "          docLink.innerHTML = docLinkHtml;\n",
              "          element.appendChild(docLink);\n",
              "        }\n",
              "      </script>\n",
              "    </div>\n",
              "  </div>\n",
              "  "
            ]
          },
          "metadata": {},
          "execution_count": 13
        }
      ]
    },
    {
      "cell_type": "code",
      "source": [
        "# Set plot size \n",
        "from pylab import rcParams\n",
        "rcParams['figure.figsize'] = 14, 5\n",
        "\n",
        "df_actual = (df_date.iloc[12:60])       #Resizing the actual dataset to match the predicted value\n",
        "\n",
        "# Plot parameters\n",
        "START_DATE_FOR_PLOTTING = '2018-01-31'\n",
        "\n",
        "#plt.plot(PREDICTIONS_FUTURE.index, PREDICTIONS_FUTURE['MGS10 year (Yield %)'], color='r', label='Predicted')\n",
        "plt.plot(PREDICTION_TRAIN.loc[START_DATE_FOR_PLOTTING:].index, PREDICTION_TRAIN.loc[START_DATE_FOR_PLOTTING:]['MGS10 year (Yield %)'], color='orange', label='MGS10 year (Yield %) Training Predictions')\n",
        "plt.plot(df_actual['Date'],df_actual['MGS10 year (Yield %)'], color='b', label='MGS10 year (Yield %)')\n",
        "\n",
        "plt.axvline(x = min(PREDICTIONS_FUTURE.index), color='green', linewidth=2, linestyle='--')\n",
        "\n",
        "plt.grid(which='major', color='#cccccc', alpha=0.5)\n",
        "\n",
        "plt.legend(shadow=True)\n",
        "plt.title('Predictions vs Actual', family='Arial', fontsize=12)\n",
        "plt.xlabel('Timeline', family='Arial', fontsize=10)\n",
        "plt.ylabel('Yield (%)', family='Arial', fontsize=10)\n",
        "plt.xticks(rotation=45, fontsize=8)\n",
        "plt.show()"
      ],
      "metadata": {
        "colab": {
          "base_uri": "https://localhost:8080/",
          "height": 370
        },
        "id": "OMAmBAo3wAqZ",
        "outputId": "8a3a46ea-778d-4e28-810b-d33fe29111be"
      },
      "execution_count": 19,
      "outputs": [
        {
          "output_type": "display_data",
          "data": {
            "text/plain": [
              "<Figure size 1008x360 with 1 Axes>"
            ],
            "image/png": "[encoded data removed]"
          },
          "metadata": {
            "needs_background": "light"
          }
        }
      ]
    },
    {
      "cell_type": "code",
      "source": [
        "df_days = df_actual.iloc[30:]\n",
        "df_days.head(60)"
      ],
      "metadata": {
        "colab": {
          "base_uri": "https://localhost:8080/",
          "height": 614
        },
        "id": "R-kdFYz86aki",
        "outputId": "71119b20-7dbd-4508-a737-d7fc567b32c0"
      },
      "execution_count": 15,
      "outputs": [
        {
          "output_type": "execute_result",
          "data": {
            "text/plain": [
              "         Date  MGS10 year (Yield %)  FBM KLCI (MoM Chg %)  \\\n",
              "42 2020-07-31                 2.551              6.847572   \n",
              "43 2020-08-31                 2.618             -4.897272   \n",
              "44 2020-09-30                 2.668             -1.336865   \n",
              "45 2020-10-31                 2.618             -2.520567   \n",
              "46 2020-11-30                 2.754              6.532187   \n",
              "47 2020-12-31                 2.646              4.127445   \n",
              "48 2021-01-31                 2.702             -3.737071   \n",
              "49 2021-02-28                 3.081              0.724591   \n",
              "50 2021-03-31                 3.237             -0.268737   \n",
              "51 2021-04-30                 3.108              1.788359   \n",
              "52 2021-05-31                 3.227             -1.130085   \n",
              "53 2021-06-30                 3.281             -3.215560   \n",
              "54 2021-07-31                 3.174             -2.481356   \n",
              "55 2021-08-31                 3.186              7.144386   \n",
              "56 2021-09-30                 3.373             -3.970326   \n",
              "57 2021-10-31                 3.581              1.593835   \n",
              "58 2021-11-30                 3.509             -3.093496   \n",
              "59 2021-12-31                 3.563              3.537035   \n",
              "\n",
              "    Trade Balance (MoM Chg %)  Foreign Holding (MoM Chg %)  \\\n",
              "42                  26.860874                     4.402565   \n",
              "43                 -41.487845                     1.651545   \n",
              "44                  48.426822                     0.568525   \n",
              "45                   1.472465                     3.351028   \n",
              "46                 -23.154679                     1.361921   \n",
              "47                  21.198480                     1.890354   \n",
              "48                 -19.912209                     1.555209   \n",
              "49                   7.673312                     2.748277   \n",
              "50                  35.391844                     2.088210   \n",
              "51                 -15.885804                     2.391499   \n",
              "52                 -32.442654                     0.793378   \n",
              "53                  61.814745                     0.308828   \n",
              "54                 -38.187455                    -1.414365   \n",
              "55                  55.469943                     2.873188   \n",
              "56                  22.166635                    -0.095427   \n",
              "57                   0.654445                     2.408114   \n",
              "58                 -27.980989                    -1.573848   \n",
              "59                  63.618605                     2.764198   \n",
              "\n",
              "    IP Index (YoY Chg %)  CPI (YoY Chg %)  UST10year (Yield %)  \n",
              "42                   2.9             -1.3               0.5282  \n",
              "43                   2.2             -1.4               0.7048  \n",
              "44                   4.3             -1.4               0.6840  \n",
              "45                   2.4             -1.5               0.8737  \n",
              "46                   2.0             -1.7               0.8389  \n",
              "47                   4.1             -1.4               0.9132  \n",
              "48                   3.5             -0.2               1.0655  \n",
              "49                   4.5              0.1               1.4049  \n",
              "50                  12.7              1.7               1.7404  \n",
              "51                  68.0              4.7               1.6259  \n",
              "52                  29.8              4.4               1.5943  \n",
              "53                  -0.2              3.4               1.4680  \n",
              "54                  -6.5              2.2               1.2223  \n",
              "55                   0.6              2.0               1.3088  \n",
              "56                   4.0              2.2               1.4873  \n",
              "57                   8.0              2.9               1.5521  \n",
              "58                  11.3              3.3               1.4443  \n",
              "59                   8.4              3.2               1.5101  "
            ],
            "text/html": [
              "\n",
              "  <div id=\"df-d60326e9-cbcc-49e8-a709-65138bedc2cf\">\n",
              "    <div class=\"colab-df-container\">\n",
              "      <div>\n",
              "<style scoped>\n",
              "    .dataframe tbody tr th:only-of-type {\n",
              "        vertical-align: middle;\n",
              "    }\n",
              "\n",
              "    .dataframe tbody tr th {\n",
              "        vertical-align: top;\n",
              "    }\n",
              "\n",
              "    .dataframe thead th {\n",
              "        text-align: right;\n",
              "    }\n",
              "</style>\n",
              "<table border=\"1\" class=\"dataframe\">\n",
              "  <thead>\n",
              "    <tr style=\"text-align: right;\">\n",
              "      <th></th>\n",
              "      <th>Date</th>\n",
              "      <th>MGS10 year (Yield %)</th>\n",
              "      <th>FBM KLCI (MoM Chg %)</th>\n",
              "      <th>Trade Balance (MoM Chg %)</th>\n",
              "      <th>Foreign Holding (MoM Chg %)</th>\n",
              "      <th>IP Index (YoY Chg %)</th>\n",
              "      <th>CPI (YoY Chg %)</th>\n",
              "      <th>UST10year (Yield %)</th>\n",
              "    </tr>\n",
              "  </thead>\n",
              "  <tbody>\n",
              "    <tr>\n",
              "      <th>42</th>\n",
              "      <td>2020-07-31</td>\n",
              "      <td>2.551</td>\n",
              "      <td>6.847572</td>\n",
              "      <td>26.860874</td>\n",
              "      <td>4.402565</td>\n",
              "      <td>2.9</td>\n",
              "      <td>-1.3</td>\n",
              "      <td>0.5282</td>\n",
              "    </tr>\n",
              "    <tr>\n",
              "      <th>43</th>\n",
              "      <td>2020-08-31</td>\n",
              "      <td>2.618</td>\n",
              "      <td>-4.897272</td>\n",
              "      <td>-41.487845</td>\n",
              "      <td>1.651545</td>\n",
              "      <td>2.2</td>\n",
              "      <td>-1.4</td>\n",
              "      <td>0.7048</td>\n",
              "    </tr>\n",
              "    <tr>\n",
              "      <th>44</th>\n",
              "      <td>2020-09-30</td>\n",
              "      <td>2.668</td>\n",
              "      <td>-1.336865</td>\n",
              "      <td>48.426822</td>\n",
              "      <td>0.568525</td>\n",
              "      <td>4.3</td>\n",
              "      <td>-1.4</td>\n",
              "      <td>0.6840</td>\n",
              "    </tr>\n",
              "    <tr>\n",
              "      <th>45</th>\n",
              "      <td>2020-10-31</td>\n",
              "      <td>2.618</td>\n",
              "      <td>-2.520567</td>\n",
              "      <td>1.472465</td>\n",
              "      <td>3.351028</td>\n",
              "      <td>2.4</td>\n",
              "      <td>-1.5</td>\n",
              "      <td>0.8737</td>\n",
              "    </tr>\n",
              "    <tr>\n",
              "      <th>46</th>\n",
              "      <td>2020-11-30</td>\n",
              "      <td>2.754</td>\n",
              "      <td>6.532187</td>\n",
              "      <td>-23.154679</td>\n",
              "      <td>1.361921</td>\n",
              "      <td>2.0</td>\n",
              "      <td>-1.7</td>\n",
              "      <td>0.8389</td>\n",
              "    </tr>\n",
              "    <tr>\n",
              "      <th>47</th>\n",
              "      <td>2020-12-31</td>\n",
              "      <td>2.646</td>\n",
              "      <td>4.127445</td>\n",
              "      <td>21.198480</td>\n",
              "      <td>1.890354</td>\n",
              "      <td>4.1</td>\n",
              "      <td>-1.4</td>\n",
              "      <td>0.9132</td>\n",
              "    </tr>\n",
              "    <tr>\n",
              "      <th>48</th>\n",
              "      <td>2021-01-31</td>\n",
              "      <td>2.702</td>\n",
              "      <td>-3.737071</td>\n",
              "      <td>-19.912209</td>\n",
              "      <td>1.555209</td>\n",
              "      <td>3.5</td>\n",
              "      <td>-0.2</td>\n",
              "      <td>1.0655</td>\n",
              "    </tr>\n",
              "    <tr>\n",
              "      <th>49</th>\n",
              "      <td>2021-02-28</td>\n",
              "      <td>3.081</td>\n",
              "      <td>0.724591</td>\n",
              "      <td>7.673312</td>\n",
              "      <td>2.748277</td>\n",
              "      <td>4.5</td>\n",
              "      <td>0.1</td>\n",
              "      <td>1.4049</td>\n",
              "    </tr>\n",
              "    <tr>\n",
              "      <th>50</th>\n",
              "      <td>2021-03-31</td>\n",
              "      <td>3.237</td>\n",
              "      <td>-0.268737</td>\n",
              "      <td>35.391844</td>\n",
              "      <td>2.088210</td>\n",
              "      <td>12.7</td>\n",
              "      <td>1.7</td>\n",
              "      <td>1.7404</td>\n",
              "    </tr>\n",
              "    <tr>\n",
              "      <th>51</th>\n",
              "      <td>2021-04-30</td>\n",
              "      <td>3.108</td>\n",
              "      <td>1.788359</td>\n",
              "      <td>-15.885804</td>\n",
              "      <td>2.391499</td>\n",
              "      <td>68.0</td>\n",
              "      <td>4.7</td>\n",
              "      <td>1.6259</td>\n",
              "    </tr>\n",
              "    <tr>\n",
              "      <th>52</th>\n",
              "      <td>2021-05-31</td>\n",
              "      <td>3.227</td>\n",
              "      <td>-1.130085</td>\n",
              "      <td>-32.442654</td>\n",
              "      <td>0.793378</td>\n",
              "      <td>29.8</td>\n",
              "      <td>4.4</td>\n",
              "      <td>1.5943</td>\n",
              "    </tr>\n",
              "    <tr>\n",
              "      <th>53</th>\n",
              "      <td>2021-06-30</td>\n",
              "      <td>3.281</td>\n",
              "      <td>-3.215560</td>\n",
              "      <td>61.814745</td>\n",
              "      <td>0.308828</td>\n",
              "      <td>-0.2</td>\n",
              "      <td>3.4</td>\n",
              "      <td>1.4680</td>\n",
              "    </tr>\n",
              "    <tr>\n",
              "      <th>54</th>\n",
              "      <td>2021-07-31</td>\n",
              "      <td>3.174</td>\n",
              "      <td>-2.481356</td>\n",
              "      <td>-38.187455</td>\n",
              "      <td>-1.414365</td>\n",
              "      <td>-6.5</td>\n",
              "      <td>2.2</td>\n",
              "      <td>1.2223</td>\n",
              "    </tr>\n",
              "    <tr>\n",
              "      <th>55</th>\n",
              "      <td>2021-08-31</td>\n",
              "      <td>3.186</td>\n",
              "      <td>7.144386</td>\n",
              "      <td>55.469943</td>\n",
              "      <td>2.873188</td>\n",
              "      <td>0.6</td>\n",
              "      <td>2.0</td>\n",
              "      <td>1.3088</td>\n",
              "    </tr>\n",
              "    <tr>\n",
              "      <th>56</th>\n",
              "      <td>2021-09-30</td>\n",
              "      <td>3.373</td>\n",
              "      <td>-3.970326</td>\n",
              "      <td>22.166635</td>\n",
              "      <td>-0.095427</td>\n",
              "      <td>4.0</td>\n",
              "      <td>2.2</td>\n",
              "      <td>1.4873</td>\n",
              "    </tr>\n",
              "    <tr>\n",
              "      <th>57</th>\n",
              "      <td>2021-10-31</td>\n",
              "      <td>3.581</td>\n",
              "      <td>1.593835</td>\n",
              "      <td>0.654445</td>\n",
              "      <td>2.408114</td>\n",
              "      <td>8.0</td>\n",
              "      <td>2.9</td>\n",
              "      <td>1.5521</td>\n",
              "    </tr>\n",
              "    <tr>\n",
              "      <th>58</th>\n",
              "      <td>2021-11-30</td>\n",
              "      <td>3.509</td>\n",
              "      <td>-3.093496</td>\n",
              "      <td>-27.980989</td>\n",
              "      <td>-1.573848</td>\n",
              "      <td>11.3</td>\n",
              "      <td>3.3</td>\n",
              "      <td>1.4443</td>\n",
              "    </tr>\n",
              "    <tr>\n",
              "      <th>59</th>\n",
              "      <td>2021-12-31</td>\n",
              "      <td>3.563</td>\n",
              "      <td>3.537035</td>\n",
              "      <td>63.618605</td>\n",
              "      <td>2.764198</td>\n",
              "      <td>8.4</td>\n",
              "      <td>3.2</td>\n",
              "      <td>1.5101</td>\n",
              "    </tr>\n",
              "  </tbody>\n",
              "</table>\n",
              "</div>\n",
              "      <button class=\"colab-df-convert\" onclick=\"convertToInteractive('df-d60326e9-cbcc-49e8-a709-65138bedc2cf')\"\n",
              "              title=\"Convert this dataframe to an interactive table.\"\n",
              "              style=\"display:none;\">\n",
              "        \n",
              "  <svg xmlns=\"http://www.w3.org/2000/svg\" height=\"24px\"viewBox=\"0 0 24 24\"\n",
              "       width=\"24px\">\n",
              "    <path d=\"M0 0h24v24H0V0z\" fill=\"none\"/>\n",
              "    <path d=\"M18.56 5.44l.94 2.06.94-2.06 2.06-.94-2.06-.94-.94-2.06-.94 2.06-2.06.94zm-11 1L8.5 8.5l.94-2.06 2.06-.94-2.06-.94L8.5 2.5l-.94 2.06-2.06.94zm10 10l.94 2.06.94-2.06 2.06-.94-2.06-.94-.94-2.06-.94 2.06-2.06.94z\"/><path d=\"M17.41 7.96l-1.37-1.37c-.4-.4-.92-.59-1.43-.59-.52 0-1.04.2-1.43.59L10.3 9.45l-7.72 7.72c-.78.78-.78 2.05 0 2.83L4 21.41c.39.39.9.59 1.41.59.51 0 1.02-.2 1.41-.59l7.78-7.78 2.81-2.81c.8-.78.8-2.07 0-2.86zM5.41 20L4 18.59l7.72-7.72 1.47 1.35L5.41 20z\"/>\n",
              "  </svg>\n",
              "      </button>\n",
              "      \n",
              "  <style>\n",
              "    .colab-df-container {\n",
              "      display:flex;\n",
              "      flex-wrap:wrap;\n",
              "      gap: 12px;\n",
              "    }\n",
              "\n",
              "    .colab-df-convert {\n",
              "      background-color: #E8F0FE;\n",
              "      border: none;\n",
              "      border-radius: 50%;\n",
              "      cursor: pointer;\n",
              "      display: none;\n",
              "      fill: #1967D2;\n",
              "      height: 32px;\n",
              "      padding: 0 0 0 0;\n",
              "      width: 32px;\n",
              "    }\n",
              "\n",
              "    .colab-df-convert:hover {\n",
              "      background-color: #E2EBFA;\n",
              "      box-shadow: 0px 1px 2px rgba(60, 64, 67, 0.3), 0px 1px 3px 1px rgba(60, 64, 67, 0.15);\n",
              "      fill: #174EA6;\n",
              "    }\n",
              "\n",
              "    [theme=dark] .colab-df-convert {\n",
              "      background-color: #3B4455;\n",
              "      fill: #D2E3FC;\n",
              "    }\n",
              "\n",
              "    [theme=dark] .colab-df-convert:hover {\n",
              "      background-color: #434B5C;\n",
              "      box-shadow: 0px 1px 3px 1px rgba(0, 0, 0, 0.15);\n",
              "      filter: drop-shadow(0px 1px 2px rgba(0, 0, 0, 0.3));\n",
              "      fill: #FFFFFF;\n",
              "    }\n",
              "  </style>\n",
              "\n",
              "      <script>\n",
              "        const buttonEl =\n",
              "          document.querySelector('#df-d60326e9-cbcc-49e8-a709-65138bedc2cf button.colab-df-convert');\n",
              "        buttonEl.style.display =\n",
              "          google.colab.kernel.accessAllowed ? 'block' : 'none';\n",
              "\n",
              "        async function convertToInteractive(key) {\n",
              "          const element = document.querySelector('#df-d60326e9-cbcc-49e8-a709-65138bedc2cf');\n",
              "          const dataTable =\n",
              "            await google.colab.kernel.invokeFunction('convertToInteractive',\n",
              "                                                     [key], {});\n",
              "          if (!dataTable) return;\n",
              "\n",
              "          const docLinkHtml = 'Like what you see? Visit the ' +\n",
              "            '<a target=\"_blank\" href=https://colab.research.google.com/notebooks/data_table.ipynb>data table notebook</a>'\n",
              "            + ' to learn more about interactive tables.';\n",
              "          element.innerHTML = '';\n",
              "          dataTable['output_type'] = 'display_data';\n",
              "          await google.colab.output.renderOutput(dataTable, element);\n",
              "          const docLink = document.createElement('div');\n",
              "          docLink.innerHTML = docLinkHtml;\n",
              "          element.appendChild(docLink);\n",
              "        }\n",
              "      </script>\n",
              "    </div>\n",
              "  </div>\n",
              "  "
            ]
          },
          "metadata": {},
          "execution_count": 15
        }
      ]
    },
    {
      "cell_type": "code",
      "source": [
        "# Set plot size \n",
        "from pylab import rcParams\n",
        "rcParams['figure.figsize'] = 14, 5\n",
        "\n",
        "df_actual = (df_date.iloc[12:60])       #Resizing the actual dataset to match the predicted value\n",
        "\n",
        "# Plot parameters\n",
        "START_DATE_FOR_PLOTTING = '2020-07-31'\n",
        "\n",
        "plt.plot(PREDICTION_TRAIN.loc[START_DATE_FOR_PLOTTING:].index, PREDICTION_TRAIN.loc[START_DATE_FOR_PLOTTING:]['MGS10 year (Yield %)'], color='orange', label='Training Predictions')\n",
        "plt.plot(df_days['Date'],df_days['MGS10 year (Yield %)'], color='b', label='Actual')\n",
        "\n",
        "\n",
        "plt.grid(which='major', color='#cccccc', alpha=0.5)\n",
        "\n",
        "plt.legend(shadow=True)\n",
        "plt.title('Predictions vs Actual', family='Arial', fontsize=12)\n",
        "plt.xlabel('Timeline', family='Arial', fontsize=10)\n",
        "plt.ylabel('Yield (%)', family='Arial', fontsize=10)\n",
        "plt.xticks(rotation=45, fontsize=8)\n",
        "plt.show()"
      ],
      "metadata": {
        "colab": {
          "base_uri": "https://localhost:8080/",
          "height": 370
        },
        "id": "CvXTqqAs4wDK",
        "outputId": "43be76c8-0c7c-44c2-bfb6-53836993b7df"
      },
      "execution_count": 16,
      "outputs": [
        {
          "output_type": "display_data",
          "data": {
            "text/plain": [
              "<Figure size 1008x360 with 1 Axes>"
            ],
            "image/png": "[encoded data removed]"
          },
          "metadata": {
            "needs_background": "light"
          }
        }
      ]
    },
    {
      "cell_type": "code",
      "source": [
        "# calculate Model Evaluation\n",
        "from sklearn.metrics import mean_absolute_error as mae\n",
        "\n",
        "from statsmodels.tools.eval_measures import rmse, aic\n",
        "from math import sqrt\n",
        "from sklearn.metrics import mean_squared_error\n",
        "\n",
        "rmse = round((sqrt(mean_squared_error(df_actual['MGS10 year (Yield %)'], PREDICTION_TRAIN))),4)\n",
        "mae = round(mae(df_actual['MGS10 year (Yield %)'], PREDICTION_TRAIN),4)\n",
        "\n",
        "print(\"Forecast Accuracy of (LSTM): MGS10 year \")\n",
        "print(\"Mean absolute error : \" + str(mae))\n",
        "print('Test RMSE: %.3f' % rmse)"
      ],
      "metadata": {
        "colab": {
          "base_uri": "https://localhost:8080/"
        },
        "id": "npdiu6jM-3q_",
        "outputId": "8c18bed4-0845-489e-dd38-6aab121e6d13"
      },
      "execution_count": 17,
      "outputs": [
        {
          "output_type": "stream",
          "name": "stdout",
          "text": [
            "Forecast Accuracy of (LSTM): MGS10 year \n",
            "Mean absolute error : 0.1307\n",
            "Test RMSE: 0.190\n"
          ]
        },
        {
          "output_type": "stream",
          "name": "stderr",
          "text": [
            "/usr/local/lib/python3.7/dist-packages/statsmodels/tools/_testing.py:19: FutureWarning: pandas.util.testing is deprecated. Use the functions in the public API at pandas.testing instead.\n",
            "  import pandas.util.testing as tm\n"
          ]
        }
      ]
    },
    {
      "cell_type": "code",
      "source": [
        "# calculate RMSE\n",
        "from statsmodels.tools.eval_measures import rmse, aic\n",
        "from math import sqrt\n",
        "from sklearn.metrics import mean_squared_error\n",
        "rmse = sqrt(mean_squared_error(df_actual['MGS10 year (Yield %)'], PREDICTION_TRAIN))\n",
        "\n",
        "\n",
        "print('Test RMSE: %.3f' % rmse)"
      ],
      "metadata": {
        "colab": {
          "base_uri": "https://localhost:8080/"
        },
        "id": "p126bBpFLCA4",
        "outputId": "16b6dcb5-b454-4f17-c4a3-94a9f72de596"
      },
      "execution_count": null,
      "outputs": [
        {
          "output_type": "stream",
          "name": "stdout",
          "text": [
            "Test RMSE: 0.172\n"
          ]
        }
      ]
    },
    {
      "cell_type": "code",
      "source": [
        "# summarize history for loss\n",
        "plt.plot(history.history['loss'])\n",
        "plt.plot(history.history['val_loss'])\n",
        "plt.title('model loss')\n",
        "plt.ylabel('loss')\n",
        "plt.xlabel('epoch')\n",
        "plt.legend(['train', 'test'], loc='upper left')\n",
        "plt.show()"
      ],
      "metadata": {
        "colab": {
          "base_uri": "https://localhost:8080/",
          "height": 350
        },
        "id": "C1B5LUGgLzzs",
        "outputId": "1f23aef7-e1b1-4d2b-aa22-d6ba30486eea"
      },
      "execution_count": null,
      "outputs": [
        {
          "output_type": "display_data",
          "data": {
            "text/plain": [
              "<Figure size 1008x360 with 1 Axes>"
            ],
            "image/png": "[encoded data removed]"
          },
          "metadata": {
            "needs_background": "light"
          }
        }
      ]
    },
    {
      "cell_type": "code",
      "source": [
        "# summarize history for accuracy\n",
        "plt.plot(history.history['acc'])\n",
        "plt.plot(history.history['val_acc'])\n",
        "plt.title('model accuracy')\n",
        "plt.ylabel('accuracy')\n",
        "plt.xlabel('epoch')\n",
        "plt.legend(['train', 'test'], loc='upper left')\n",
        "plt.show()"
      ],
      "metadata": {
        "colab": {
          "base_uri": "https://localhost:8080/",
          "height": 350
        },
        "id": "I2BuhSJKL6jG",
        "outputId": "115ced64-c657-46e5-c333-694d6d63828e"
      },
      "execution_count": null,
      "outputs": [
        {
          "output_type": "display_data",
          "data": {
            "text/plain": [
              "<Figure size 1008x360 with 1 Axes>"
            ],
            "image/png": "[encoded data removed]"
          },
          "metadata": {
            "needs_background": "light"
          }
        }
      ]
    },
    {
      "cell_type": "code",
      "source": [
        "model.summary()"
      ],
      "metadata": {
        "colab": {
          "base_uri": "https://localhost:8080/"
        },
        "id": "xfWZxCiHMIwj",
        "outputId": "c50c3c07-b411-48e1-f97d-e693f9f0319c"
      },
      "execution_count": null,
      "outputs": [
        {
          "output_type": "stream",
          "name": "stdout",
          "text": [
            "Model: \"sequential\"\n",
            "_________________________________________________________________\n",
            " Layer (type)                Output Shape              Param #   \n",
            "=================================================================\n",
            " lstm (LSTM)                 (None, 64)                17920     \n",
            "                                                                 \n",
            " dropout (Dropout)           (None, 64)                0         \n",
            "                                                                 \n",
            " dense (Dense)               (None, 1)                 65        \n",
            "                                                                 \n",
            "=================================================================\n",
            "Total params: 17,985\n",
            "Trainable params: 17,985\n",
            "Non-trainable params: 0\n",
            "_________________________________________________________________\n"
          ]
        }
      ]
    },
    {
      "cell_type": "code",
      "source": [
        "PREDICTION_EVAL = PREDICTION_TRAIN.iloc[30:]\n",
        "PREDICTION_EVAL.head(60)"
      ],
      "metadata": {
        "colab": {
          "base_uri": "https://localhost:8080/",
          "height": 614
        },
        "id": "hxy1Mf_j8TfS",
        "outputId": "9573d1b9-d899-4009-8004-49204bc79eca"
      },
      "execution_count": null,
      "outputs": [
        {
          "output_type": "execute_result",
          "data": {
            "text/plain": [
              "            MGS10 year (Yield %)\n",
              "2020-07-31              2.830225\n",
              "2020-08-31              2.892085\n",
              "2020-09-30              2.862845\n",
              "2020-10-31              2.911896\n",
              "2020-11-30              2.862661\n",
              "2020-12-31              2.926470\n",
              "2021-01-31              2.961394\n",
              "2021-02-28              2.901499\n",
              "2021-03-31              2.969016\n",
              "2021-04-30              3.064922\n",
              "2021-05-31              3.324017\n",
              "2021-06-30              3.413206\n",
              "2021-07-31              3.333965\n",
              "2021-08-31              3.230792\n",
              "2021-09-30              3.206653\n",
              "2021-10-31              3.187137\n",
              "2021-11-30              3.246284\n",
              "2021-12-31              3.337854"
            ],
            "text/html": [
              "\n",
              "  <div id=\"df-18bfbca3-f855-46ef-ac54-a3890e67b15d\">\n",
              "    <div class=\"colab-df-container\">\n",
              "      <div>\n",
              "<style scoped>\n",
              "    .dataframe tbody tr th:only-of-type {\n",
              "        vertical-align: middle;\n",
              "    }\n",
              "\n",
              "    .dataframe tbody tr th {\n",
              "        vertical-align: top;\n",
              "    }\n",
              "\n",
              "    .dataframe thead th {\n",
              "        text-align: right;\n",
              "    }\n",
              "</style>\n",
              "<table border=\"1\" class=\"dataframe\">\n",
              "  <thead>\n",
              "    <tr style=\"text-align: right;\">\n",
              "      <th></th>\n",
              "      <th>MGS10 year (Yield %)</th>\n",
              "    </tr>\n",
              "  </thead>\n",
              "  <tbody>\n",
              "    <tr>\n",
              "      <th>2020-07-31</th>\n",
              "      <td>2.830225</td>\n",
              "    </tr>\n",
              "    <tr>\n",
              "      <th>2020-08-31</th>\n",
              "      <td>2.892085</td>\n",
              "    </tr>\n",
              "    <tr>\n",
              "      <th>2020-09-30</th>\n",
              "      <td>2.862845</td>\n",
              "    </tr>\n",
              "    <tr>\n",
              "      <th>2020-10-31</th>\n",
              "      <td>2.911896</td>\n",
              "    </tr>\n",
              "    <tr>\n",
              "      <th>2020-11-30</th>\n",
              "      <td>2.862661</td>\n",
              "    </tr>\n",
              "    <tr>\n",
              "      <th>2020-12-31</th>\n",
              "      <td>2.926470</td>\n",
              "    </tr>\n",
              "    <tr>\n",
              "      <th>2021-01-31</th>\n",
              "      <td>2.961394</td>\n",
              "    </tr>\n",
              "    <tr>\n",
              "      <th>2021-02-28</th>\n",
              "      <td>2.901499</td>\n",
              "    </tr>\n",
              "    <tr>\n",
              "      <th>2021-03-31</th>\n",
              "      <td>2.969016</td>\n",
              "    </tr>\n",
              "    <tr>\n",
              "      <th>2021-04-30</th>\n",
              "      <td>3.064922</td>\n",
              "    </tr>\n",
              "    <tr>\n",
              "      <th>2021-05-31</th>\n",
              "      <td>3.324017</td>\n",
              "    </tr>\n",
              "    <tr>\n",
              "      <th>2021-06-30</th>\n",
              "      <td>3.413206</td>\n",
              "    </tr>\n",
              "    <tr>\n",
              "      <th>2021-07-31</th>\n",
              "      <td>3.333965</td>\n",
              "    </tr>\n",
              "    <tr>\n",
              "      <th>2021-08-31</th>\n",
              "      <td>3.230792</td>\n",
              "    </tr>\n",
              "    <tr>\n",
              "      <th>2021-09-30</th>\n",
              "      <td>3.206653</td>\n",
              "    </tr>\n",
              "    <tr>\n",
              "      <th>2021-10-31</th>\n",
              "      <td>3.187137</td>\n",
              "    </tr>\n",
              "    <tr>\n",
              "      <th>2021-11-30</th>\n",
              "      <td>3.246284</td>\n",
              "    </tr>\n",
              "    <tr>\n",
              "      <th>2021-12-31</th>\n",
              "      <td>3.337854</td>\n",
              "    </tr>\n",
              "  </tbody>\n",
              "</table>\n",
              "</div>\n",
              "      <button class=\"colab-df-convert\" onclick=\"convertToInteractive('df-18bfbca3-f855-46ef-ac54-a3890e67b15d')\"\n",
              "              title=\"Convert this dataframe to an interactive table.\"\n",
              "              style=\"display:none;\">\n",
              "        \n",
              "  <svg xmlns=\"http://www.w3.org/2000/svg\" height=\"24px\"viewBox=\"0 0 24 24\"\n",
              "       width=\"24px\">\n",
              "    <path d=\"M0 0h24v24H0V0z\" fill=\"none\"/>\n",
              "    <path d=\"M18.56 5.44l.94 2.06.94-2.06 2.06-.94-2.06-.94-.94-2.06-.94 2.06-2.06.94zm-11 1L8.5 8.5l.94-2.06 2.06-.94-2.06-.94L8.5 2.5l-.94 2.06-2.06.94zm10 10l.94 2.06.94-2.06 2.06-.94-2.06-.94-.94-2.06-.94 2.06-2.06.94z\"/><path d=\"M17.41 7.96l-1.37-1.37c-.4-.4-.92-.59-1.43-.59-.52 0-1.04.2-1.43.59L10.3 9.45l-7.72 7.72c-.78.78-.78 2.05 0 2.83L4 21.41c.39.39.9.59 1.41.59.51 0 1.02-.2 1.41-.59l7.78-7.78 2.81-2.81c.8-.78.8-2.07 0-2.86zM5.41 20L4 18.59l7.72-7.72 1.47 1.35L5.41 20z\"/>\n",
              "  </svg>\n",
              "      </button>\n",
              "      \n",
              "  <style>\n",
              "    .colab-df-container {\n",
              "      display:flex;\n",
              "      flex-wrap:wrap;\n",
              "      gap: 12px;\n",
              "    }\n",
              "\n",
              "    .colab-df-convert {\n",
              "      background-color: #E8F0FE;\n",
              "      border: none;\n",
              "      border-radius: 50%;\n",
              "      cursor: pointer;\n",
              "      display: none;\n",
              "      fill: #1967D2;\n",
              "      height: 32px;\n",
              "      padding: 0 0 0 0;\n",
              "      width: 32px;\n",
              "    }\n",
              "\n",
              "    .colab-df-convert:hover {\n",
              "      background-color: #E2EBFA;\n",
              "      box-shadow: 0px 1px 2px rgba(60, 64, 67, 0.3), 0px 1px 3px 1px rgba(60, 64, 67, 0.15);\n",
              "      fill: #174EA6;\n",
              "    }\n",
              "\n",
              "    [theme=dark] .colab-df-convert {\n",
              "      background-color: #3B4455;\n",
              "      fill: #D2E3FC;\n",
              "    }\n",
              "\n",
              "    [theme=dark] .colab-df-convert:hover {\n",
              "      background-color: #434B5C;\n",
              "      box-shadow: 0px 1px 3px 1px rgba(0, 0, 0, 0.15);\n",
              "      filter: drop-shadow(0px 1px 2px rgba(0, 0, 0, 0.3));\n",
              "      fill: #FFFFFF;\n",
              "    }\n",
              "  </style>\n",
              "\n",
              "      <script>\n",
              "        const buttonEl =\n",
              "          document.querySelector('#df-18bfbca3-f855-46ef-ac54-a3890e67b15d button.colab-df-convert');\n",
              "        buttonEl.style.display =\n",
              "          google.colab.kernel.accessAllowed ? 'block' : 'none';\n",
              "\n",
              "        async function convertToInteractive(key) {\n",
              "          const element = document.querySelector('#df-18bfbca3-f855-46ef-ac54-a3890e67b15d');\n",
              "          const dataTable =\n",
              "            await google.colab.kernel.invokeFunction('convertToInteractive',\n",
              "                                                     [key], {});\n",
              "          if (!dataTable) return;\n",
              "\n",
              "          const docLinkHtml = 'Like what you see? Visit the ' +\n",
              "            '<a target=\"_blank\" href=https://colab.research.google.com/notebooks/data_table.ipynb>data table notebook</a>'\n",
              "            + ' to learn more about interactive tables.';\n",
              "          element.innerHTML = '';\n",
              "          dataTable['output_type'] = 'display_data';\n",
              "          await google.colab.output.renderOutput(dataTable, element);\n",
              "          const docLink = document.createElement('div');\n",
              "          docLink.innerHTML = docLinkHtml;\n",
              "          element.appendChild(docLink);\n",
              "        }\n",
              "      </script>\n",
              "    </div>\n",
              "  </div>\n",
              "  "
            ]
          },
          "metadata": {},
          "execution_count": 60
        }
      ]
    },
    {
      "cell_type": "code",
      "source": [
        "# Parse training set timestamp for better visualization\n",
        "dataset_train = pd.DataFrame(df, columns=cols)\n",
        "dataset_train.index = datelist_train\n",
        "dataset_train.index = pd.to_datetime(df.index)"
      ],
      "metadata": {
        "id": "ALJzTLjI7mdt"
      },
      "execution_count": null,
      "outputs": []
    }
  ]
}